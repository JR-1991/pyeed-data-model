{
 "cells": [
  {
   "cell_type": "code",
   "execution_count": 1,
   "metadata": {},
   "outputs": [],
   "source": [
    "try:\n",
    "    from sdRDM import DataModel\n",
    "    from sdRDM.database import build_sql_database\n",
    "except ModuleNotFoundError:\n",
    "    # Install package if not given\n",
    "    import subprocess\n",
    "    import sys\n",
    "    subprocess.call([sys.executable, \"-m\", \"pip\", \"install\", \"git+https://github.com/JR-1991/software-driven-rdm.git\"])"
   ]
  },
  {
   "cell_type": "markdown",
   "metadata": {},
   "source": [
    "### Fetching the data model\n",
    "\n",
    "The PyEED data model can be inspected [here](https://github.com/PyEED/pyeed-data-model) which incorporates a [markdown file](https://github.com/PyEED/pyeed-data-model/blob/main/specifications/model.md) that defines the model. By using sdRDM's ```DataModel``` class and ```from_git``` method we can generate the corresponding Python code in-memory and use the model right away. See the printed tree to verify that the code is present."
   ]
  },
  {
   "cell_type": "code",
   "execution_count": 2,
   "metadata": {},
   "outputs": [
    {
     "name": "stderr",
     "output_type": "stream",
     "text": [
      "Klone nach '/var/folders/_c/jfgxmn5j4392zwrvt1vtvlbm0000gn/T/tmpmc4whppx'...\n"
     ]
    },
    {
     "name": "stdout",
     "output_type": "stream",
     "text": [
      "ProteinSequence\n",
      "├── id\n",
      "├── name\n",
      "├── amino_acid_sequence\n",
      "├── nr_id\n",
      "├── uniprot_id\n",
      "├── pdb_id\n",
      "├── organism\n",
      "│   └── Organism\n",
      "│       ├── id\n",
      "│       └── ncbi_taxonomy_id\n",
      "├── domain\n",
      "│   └── Domain\n",
      "│       ├── id\n",
      "│       ├── name\n",
      "│       ├── start_position\n",
      "│       └── end_position\n",
      "├── reference_sequence\n",
      "├── equivalence\n",
      "│   └── Equivalence\n",
      "│       ├── id\n",
      "│       ├── reference_position\n",
      "│       └── sequence_position\n",
      "└── annotation\n",
      "    └── Annotation\n",
      "        ├── id\n",
      "        ├── start_position\n",
      "        ├── function\n",
      "        └── end_position\n"
     ]
    }
   ],
   "source": [
    "pyeed = DataModel.from_git(\"https://github.com/PyEED/pyeed-data-model.git\")\n",
    "pyeed.ProteinSequence.visualize_tree()"
   ]
  },
  {
   "cell_type": "markdown",
   "metadata": {},
   "source": [
    "### Building the SQL database\n",
    "\n",
    "Next, we are going to use the ```build_sql_database``` function to set up an SQLite database file. This one will be used later on to populate data from our model. The database will construct a tabe for each object/attribute and thus facilitate an easy transfer from an application to the database."
   ]
  },
  {
   "cell_type": "code",
   "execution_count": 3,
   "metadata": {},
   "outputs": [],
   "source": [
    "build_sql_database(pyeed.ProteinSequence, pyeed.DNASequence, loc=\"./test.db\")"
   ]
  },
  {
   "cell_type": "markdown",
   "metadata": {},
   "source": [
    "### Creating a dataset\n",
    "\n",
    "In order to demonstrate how to populate the database using our model, we are going to construct a small dataset using the data model we just loaded."
   ]
  },
  {
   "cell_type": "code",
   "execution_count": 4,
   "metadata": {},
   "outputs": [],
   "source": [
    "# Initialize a ProteinSequence object and add details\n",
    "# In this case we are using the PDB structure '3ZDR'\n",
    "# and add most important annotations\n",
    "\n",
    "dataset = pyeed.ProteinSequence(\n",
    "    name=\"Alcohol dehydrogenase\",\n",
    "    pdb_id=[\"3ZDR\"],\n",
    "    amino_acid_sequence=\"MGSSHHHHHHSSGLVPRGSHMMNMQWFKVPPKIYFEKNAVQYLAKMPDISRAFIVTDPGMVKLGYVDKVLYYLRRRPDYVHSEIFSEVEPDPSIETVMKGVDMMRSFEPDVIIALGGGSPMDAAKAMWLFYEHPTADFNALKQKFLDIRKRVYKYPKLGQKAKFVAIPTTSGTGSEVTSFAVITDKKTNIKYPLADYELTPDVAIVDPQFVMTVPKHVTADTGMDVLTHAIEAYVSNMANDYTDGLAMKAIQLVFEYLPRAYQNGADELAREKMHNASTIAGMAFANAFLGINHSLAHKLGAEFHIPHGRANTILMPHVIRYNAAKPKKFTAFPKYEYFKADQRYAEIARMLGLPARTTEEGVESLVQAIIKLAKQLDMPLSIEACGVSKQEFESKVEKLAELAFEDQCTTANPKLPLVSDLVHIYRQAFKGV\"\n",
    ")"
   ]
  },
  {
   "cell_type": "code",
   "execution_count": 5,
   "metadata": {},
   "outputs": [],
   "source": [
    "# Add ZN-Binding annotation\n",
    "dataset.add_to_annotation(start_position=225, function=\"ZN Binding\")\n",
    "dataset.add_to_annotation(start_position=229, function=\"ZN Binding\")\n",
    "dataset.add_to_annotation(start_position=294, function=\"ZN Binding\")\n",
    "dataset.add_to_annotation(start_position=308, function=\"ZN Binding\")"
   ]
  },
  {
   "cell_type": "code",
   "execution_count": 6,
   "metadata": {},
   "outputs": [],
   "source": [
    "# Add GOL-Binding annotation\n",
    "dataset.add_to_annotation(start_position=225, function=\"GOL Binding\")\n",
    "dataset.add_to_annotation(start_position=229, function=\"GOL Binding\")\n",
    "dataset.add_to_annotation(start_position=285, function=\"GOL Binding\")\n",
    "dataset.add_to_annotation(start_position=294, function=\"GOL Binding\")\n",
    "dataset.add_to_annotation(start_position=308, function=\"GOL Binding\")"
   ]
  },
  {
   "cell_type": "code",
   "execution_count": 7,
   "metadata": {},
   "outputs": [],
   "source": [
    "# Add SO4-Binding annotation\n",
    "dataset.add_to_annotation(start_position=396, function=\"SO4 Binding\")\n",
    "dataset.add_to_annotation(start_position=399, function=\"SO4 Binding\")"
   ]
  },
  {
   "cell_type": "code",
   "execution_count": 8,
   "metadata": {},
   "outputs": [],
   "source": [
    "# Add covalent bond annotation\n",
    "dataset.add_to_annotation(start_position=408, end_position=409, function=\"Covalent Bond\")\n",
    "dataset.add_to_annotation(start_position=409, end_position=410, function=\"Covalent Bond\")"
   ]
  },
  {
   "cell_type": "markdown",
   "metadata": {},
   "source": [
    "### Populating the database\n",
    "\n",
    "Finally, we are going to add the data to our previously created database by using the datasets ```to_sql``` method where we also submit the location of our database file. This will create an Object Relation Model (ORM) that represents the Database structure and map the values present in our dataset to the corresponding tables."
   ]
  },
  {
   "cell_type": "code",
   "execution_count": 9,
   "metadata": {},
   "outputs": [],
   "source": [
    "dataset.to_sql(loc=\"./test.db\")"
   ]
  }
 ],
 "metadata": {
  "kernelspec": {
   "display_name": "softdata",
   "language": "python",
   "name": "softdata"
  },
  "language_info": {
   "codemirror_mode": {
    "name": "ipython",
    "version": 3
   },
   "file_extension": ".py",
   "mimetype": "text/x-python",
   "name": "python",
   "nbconvert_exporter": "python",
   "pygments_lexer": "ipython3",
   "version": "3.9.12"
  },
  "vscode": {
   "interpreter": {
    "hash": "64346e40b822596ad5b5640b6facc253f2aaad7fbf2d253790b845b65b13e9af"
   }
  }
 },
 "nbformat": 4,
 "nbformat_minor": 4
}
