{
 "cells": [
  {
   "cell_type": "code",
   "execution_count": 1,
   "metadata": {},
   "outputs": [],
   "source": [
    "import subprocess\n",
    "import sys\n",
    "\n",
    "try:\n",
    "    from sdRDM import DataModel\n",
    "    from sdRDM.database import build_sql_database\n",
    "except ModuleNotFoundError:\n",
    "    subprocess.call(\n",
    "        [\n",
    "            sys.executable,\n",
    "            \"-m\", \"pip\", \"install\", \"git+https://github.com/JR-1991/software-driven-rdm.git\"\n",
    "            ]\n",
    "        )"
   ]
  },
  {
   "cell_type": "code",
   "execution_count": 2,
   "metadata": {},
   "outputs": [],
   "source": [
    "pyeed = DataModel.from_markdown(\"./specifications/model.md\")"
   ]
  },
  {
   "cell_type": "code",
   "execution_count": 3,
   "metadata": {},
   "outputs": [],
   "source": [
    "build_sql_database(pyeed.ProteinSequence, pyeed.DNASequence, loc=\"./test.db\")"
   ]
  },
  {
   "cell_type": "code",
   "execution_count": 4,
   "metadata": {},
   "outputs": [],
   "source": [
    "dataset = pyeed.ProteinSequence(\n",
    "    name=\"Alcohol dehydrogenase\",\n",
    "    pdb_id=[\"3ZDR\"],\n",
    "    amino_acid_sequence=\"MGSSHHHHHHSSGLVPRGSHMMNMQWFKVPPKIYFEKNAVQYLAKMPDISRAFIVTDPGMVKLGYVDKVLYYLRRRPDYVHSEIFSEVEPDPSIETVMKGVDMMRSFEPDVIIALGGGSPMDAAKAMWLFYEHPTADFNALKQKFLDIRKRVYKYPKLGQKAKFVAIPTTSGTGSEVTSFAVITDKKTNIKYPLADYELTPDVAIVDPQFVMTVPKHVTADTGMDVLTHAIEAYVSNMANDYTDGLAMKAIQLVFEYLPRAYQNGADELAREKMHNASTIAGMAFANAFLGINHSLAHKLGAEFHIPHGRANTILMPHVIRYNAAKPKKFTAFPKYEYFKADQRYAEIARMLGLPARTTEEGVESLVQAIIKLAKQLDMPLSIEACGVSKQEFESKVEKLAELAFEDQCTTANPKLPLVSDLVHIYRQAFKGV\"\n",
    ")"
   ]
  },
  {
   "cell_type": "code",
   "execution_count": 5,
   "metadata": {},
   "outputs": [],
   "source": [
    "dataset.add_to_annotation(start_position=225, function=\"ZN Binding\")\n",
    "dataset.add_to_annotation(start_position=229, function=\"ZN Binding\")\n",
    "dataset.add_to_annotation(start_position=294, function=\"ZN Binding\")\n",
    "dataset.add_to_annotation(start_position=308, function=\"ZN Binding\")"
   ]
  },
  {
   "cell_type": "code",
   "execution_count": 6,
   "metadata": {},
   "outputs": [],
   "source": [
    "dataset.add_to_annotation(start_position=225, function=\"GOL Binding\")\n",
    "dataset.add_to_annotation(start_position=229, function=\"GOL Binding\")\n",
    "dataset.add_to_annotation(start_position=285, function=\"GOL Binding\")\n",
    "dataset.add_to_annotation(start_position=294, function=\"GOL Binding\")\n",
    "dataset.add_to_annotation(start_position=308, function=\"GOL Binding\")"
   ]
  },
  {
   "cell_type": "code",
   "execution_count": 7,
   "metadata": {},
   "outputs": [],
   "source": [
    "dataset.add_to_annotation(start_position=396, function=\"SO4 Binding\")\n",
    "dataset.add_to_annotation(start_position=399, function=\"SO4 Binding\")"
   ]
  },
  {
   "cell_type": "code",
   "execution_count": 8,
   "metadata": {},
   "outputs": [],
   "source": [
    "dataset.add_to_annotation(start_position=408, end_position=409, function=\"Covalent Bond\")\n",
    "dataset.add_to_annotation(start_position=409, end_position=410, function=\"Covalent Bond\")"
   ]
  },
  {
   "cell_type": "code",
   "execution_count": 9,
   "metadata": {},
   "outputs": [],
   "source": [
    "dataset.to_sql(loc=\"./test.db\")"
   ]
  }
 ],
 "metadata": {
  "kernelspec": {
   "display_name": "Python 3.9.12 ('softdata')",
   "language": "python",
   "name": "python3"
  },
  "language_info": {
   "codemirror_mode": {
    "name": "ipython",
    "version": 3
   },
   "file_extension": ".py",
   "mimetype": "text/x-python",
   "name": "python",
   "nbconvert_exporter": "python",
   "pygments_lexer": "ipython3",
   "version": "3.9.12"
  },
  "orig_nbformat": 4,
  "vscode": {
   "interpreter": {
    "hash": "64346e40b822596ad5b5640b6facc253f2aaad7fbf2d253790b845b65b13e9af"
   }
  }
 },
 "nbformat": 4,
 "nbformat_minor": 2
}
